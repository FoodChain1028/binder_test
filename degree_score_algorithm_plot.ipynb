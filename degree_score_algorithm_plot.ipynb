{
 "cells": [
  {
   "cell_type": "markdown",
   "id": "6dfde8ee",
   "metadata": {},
   "source": [
    "# SYB scoring algorithm Demo-Notebook (v1 scoring algorithm prototype)\n",
    "\n",
    "We collect here all the descriptions of the various algorithms we consider.\n",
    "\n",
    "### Notation:\n",
    "\n",
    "- $G = (V(G), E(G))$ is the considered graph of users, where the vertices $V(G)$  represent the users and the edges $E(G)$ the fact that two vertices vouched for each other.\n",
    "- $G$ is represented as an undirected graph to show the process in a simplified setting.\n",
    "- We think of $V(G)$ as the list $\\{0,1,2,\\ldots, |V(G)|-1\\}$, where we denote by $|V(G)|$ the cardinality of this set.\n",
    "- We call a vector $x\\in \\mathbb{R}_{\\geq 0}^{|V(G)|}$, that is, a vector with $|V(G)|$ non-negative real entries, a *score vector*. It represents the values of the corresponding users.\n",
    "\n",
    "# Degree inversion algorithm\n",
    "\n",
    "The first algorithm we implement is based on the formula \n",
    "\n",
    "$$\n",
    "y_i:=\\sum\\limits_{(j,i)\\in E(G)}\\frac{x_j}{\\deg(j)}\n",
    "$$\n",
    "\n",
    "where $x$ is the old score vector, $y$ is the new score vector, and the graph $G$ has $j$ linked to $i$ if the two nodes vouched for each other (in the general application setting, they will be linked if they both have the required balance and have both vouched for each other).\n",
    "\n",
    "## Code:\n",
    "\n",
    "Google Drive folder: https://drive.google.com/drive/folders/1ELgmF11LuUB-9JZYFIHze92BLZDrd20_?usp=sharing\n",
    "\n",
    "Code: https://drive.google.com/file/d/1hn_u5DrOejn6sP67odUjzrite7YPdhmD/view?usp=drive_link\n",
    "\n",
    "### Code behaviour:\n",
    "\n",
    "- on input two values, $n$ and $m$, generates a random graph ($G$) over $n$ vertices and $m$ edges (we consider undirected graphs and we allow at most one edge between any two given vertices).\n",
    "- on input a vector on $n$ non-negative values (meant as the present score value of the vertices), say $x=[x_1,...,x_n]$, compute the next score values of the nodes with the above formula.\n",
    "- if no vector $x$ is provided, initialize it as the vector $[1/n,1/n,\\ldots,1/n]$.\n",
    "- plot the graphs with initial values and also with the updated values.\n",
    "- ask the user to a couple of vertices, say $i$ and $j$:\n",
    "    - if the edge $(i,j)$ is already present, then ask for another couple, and repeat;\n",
    "    - otherwise:\n",
    "        - add the edge $(i,j)$ to the graph $G$,\n",
    "        - compute the updated score, and\n",
    "        - plot the new graph with the new values."
   ]
  },
  {
   "cell_type": "markdown",
   "id": "a79dc78b",
   "metadata": {},
   "source": [
    "We can compute an example as follows, by specifying the number of vertices and edges. Note that, given $n$ vertices, we have at most $n\\cdot(n-1)/2$ edges."
   ]
  },
  {
   "cell_type": "code",
   "execution_count": null,
   "id": "8e929fee",
   "metadata": {},
   "outputs": [],
   "source": [
    "import degree_score_algorithm_plot as algo\n",
    "N_VERTICES = 10\n",
    "M_EDGES = 15\n",
    "G, updated_scores = algo.generate_graph_and_display(N_VERTICES, M_EDGES)"
   ]
  },
  {
   "cell_type": "markdown",
   "id": "7a870aec",
   "metadata": {},
   "source": [
    "We can update the graph, adding an edge."
   ]
  },
  {
   "cell_type": "code",
   "execution_count": null,
   "id": "bffa7925",
   "metadata": {},
   "outputs": [],
   "source": [
    "algo.handle_user_edge_addition(G, updated_scores)"
   ]
  },
  {
   "cell_type": "markdown",
   "id": "6dc0dd1e",
   "metadata": {},
   "source": []
  }
 ],
 "metadata": {
  "kernelspec": {
   "display_name": "Python 3",
   "language": "python",
   "name": "python3"
  },
  "language_info": {
   "name": "python",
   "version": "3.13.2"
  }
 },
 "nbformat": 4,
 "nbformat_minor": 5
}
