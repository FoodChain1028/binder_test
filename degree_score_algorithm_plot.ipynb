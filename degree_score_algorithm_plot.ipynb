{
 "cells": [
  {
   "cell_type": "code",
   "execution_count": null,
   "id": "8e929fee",
   "metadata": {
    "vscode": {
     "languageId": "plaintext"
    }
   },
   "outputs": [],
   "source": [
    "import random\n",
    "import networkx as nx\n",
    "import matplotlib.pyplot as plt\n",
    "import numpy as np"
   ]
  },
  {
   "cell_type": "code",
   "execution_count": null,
   "id": "7d15e525",
   "metadata": {
    "vscode": {
     "languageId": "plaintext"
    }
   },
   "outputs": [],
   "source": [
    "def generate_random_graph(n, m):\n",
    "    \"\"\"\n",
    "    Generates a random simple undirected graph with n vertices and m edges.\n",
    "    \"\"\"\n",
    "    if n < 0 or m < 0:\n",
    "        raise ValueError(\"Number of vertices and edges must be non-negative.\")\n",
    "    max_edges = n * (n - 1) // 2\n",
    "    if m > max_edges:\n",
    "        raise ValueError(f\"Edge count {m} exceeds the maximum possible of {max_edges}.\")\n",
    "\n",
    "    G = nx.Graph()\n",
    "    G.add_nodes_from(range(n))\n",
    "\n",
    "    possible_edges = []\n",
    "    if n > 1:\n",
    "        for i in range(n):\n",
    "            for j in range(i + 1, n):\n",
    "                possible_edges.append((i, j))\n",
    "    \n",
    "    random.shuffle(possible_edges)\n",
    "    edges_to_add = possible_edges[:m]\n",
    "    G.add_edges_from(edges_to_add)\n",
    "    \n",
    "    return G"
   ]
  },
  {
   "cell_type": "code",
   "execution_count": null,
   "id": "5c764cd0",
   "metadata": {
    "vscode": {
     "languageId": "plaintext"
    }
   },
   "outputs": [],
   "source": [
    "def compute_next_scores(graph, current_scores=None):\n",
    "    \"\"\"\n",
    "    Computes and normalizes the next score for each vertex.\n",
    "    \"\"\"\n",
    "    n = graph.number_of_nodes()\n",
    "    \n",
    "    if current_scores is None:\n",
    "        # Initialize with 1/n if no scores are provided\n",
    "        x = np.ones(n) / n\n",
    "    else:\n",
    "        x = np.array(current_scores)\n",
    "        \n",
    "    y = np.zeros(n)\n",
    "    degrees = dict(graph.degree())\n",
    "    \n",
    "    for i in graph.nodes():\n",
    "        for j in graph.neighbors(i):\n",
    "            if degrees[j] > 0:\n",
    "                y[i] += x[j] / degrees[j]\n",
    "\n",
    "    # Normalize the new scores so they sum to 1\n",
    "    score_sum = np.sum(y)\n",
    "    if score_sum > 0:\n",
    "        return y / score_sum\n",
    "    \n",
    "    return y # Return the zero vector if sum is 0"
   ]
  },
  {
   "cell_type": "code",
   "execution_count": null,
   "id": "396f134e",
   "metadata": {
    "vscode": {
     "languageId": "plaintext"
    }
   },
   "outputs": [],
   "source": [
    "def display_graph_state(graph, scores, title):\n",
    "    \"\"\"\n",
    "    Prints the graph's nodes, scores, and neighbors to the console.\n",
    "    \"\"\"\n",
    "    print(f\"\\n--- {title} ---\")\n",
    "    if not graph.nodes():\n",
    "        print(\"Graph is empty.\")\n",
    "        return\n",
    "        \n",
    "    for node in sorted(graph.nodes()):\n",
    "        score = scores[node]\n",
    "        neighbors = sorted(list(graph.neighbors(node)))\n",
    "        print(f\"Node {node:<2} | Score: {score:<7.4f} | Neighbors: {neighbors}\")\n",
    "    print(f\"Total Score Sum: {np.sum(scores):.2f}\") # Verify the sum is 1.0\n",
    "    print(\"-\" * (len(title) + 6))"
   ]
  },
  {
   "cell_type": "code",
   "execution_count": null,
   "id": "e55d7761",
   "metadata": {
    "vscode": {
     "languageId": "plaintext"
    }
   },
   "outputs": [],
   "source": [
    "\n",
    "def plot_graph_with_scores(graph, scores, title):\n",
    "    \"\"\"\n",
    "    Plots the graph using a spring layout and displays node IDs and scores.\n",
    "    \"\"\"\n",
    "    plt.figure(figsize=(10, 8))\n",
    "    pos = nx.spring_layout(graph, seed=42)\n",
    "    \n",
    "    labels = {i: f\"{i}: {score:.2f}\" for i, score in enumerate(scores)}\n",
    "    \n",
    "    nx.draw(graph, pos, with_labels=False, node_color='skyblue', node_size=800, edge_color='gray', width=1.5)\n",
    "    nx.draw_networkx_labels(graph, pos, labels=labels, font_size=11, font_color='black')\n",
    "    \n",
    "    plt.title(title, fontsize=16)\n",
    "    plt.show()"
   ]
  },
  {
   "cell_type": "code",
   "execution_count": null,
   "id": "d8070203",
   "metadata": {
    "vscode": {
     "languageId": "plaintext"
    }
   },
   "outputs": [],
   "source": [
    "def handle_user_edge_addition(graph, current_scores):\n",
    "    \"\"\"\n",
    "    Prompts the user to add an edge and displays the new normalized state.\n",
    "    \"\"\"\n",
    "    n = graph.number_of_nodes()\n",
    "    if n < 2:\n",
    "        print(\"\\nCannot add new edges to a graph with fewer than 2 vertices.\")\n",
    "        return graph, current_scores\n",
    "\n",
    "    while True:\n",
    "        try:\n",
    "            prompt = f\"\\nEnter two distinct vertices to connect (from 0 to {n-1}), separated by a space: \"\n",
    "            user_input = input(prompt)\n",
    "            i, j = map(int, user_input.split())\n",
    "\n",
    "            if not (0 <= i < n and 0 <= j < n):\n",
    "                print(f\"Error: Vertices must be within the range [0, {n-1}].\")\n",
    "            elif i == j:\n",
    "                print(\"Error: Vertices must be distinct.\")\n",
    "            elif graph.has_edge(i, j):\n",
    "                print(f\"Error: Edge ({i}, {j}) already exists.\")\n",
    "            else:\n",
    "                break\n",
    "        except ValueError:\n",
    "            print(\"Invalid input. Please enter two integers separated by a space.\")\n",
    "    \n",
    "    graph.add_edge(i, j)\n",
    "    print(f\"\\nEdge ({i}, {j}) successfully added.\")\n",
    "    \n",
    "    new_scores = compute_next_scores(graph, current_scores)\n",
    "    \n",
    "    title = f\"State After Adding Edge ({i}, {j})\"\n",
    "    display_graph_state(graph, new_scores, title)\n",
    "    plot_graph_with_scores(graph, new_scores, title)\n",
    "    \n",
    "    return graph, new_scores"
   ]
  },
  {
   "cell_type": "code",
   "execution_count": null,
   "id": "8980674c",
   "metadata": {
    "vscode": {
     "languageId": "plaintext"
    }
   },
   "outputs": [],
   "source": [
    "if __name__ == \"__main__\":\n",
    "    while True:\n",
    "        try:\n",
    "            n_input = input(\"Enter the number of vertices (e.g., 10): \")\n",
    "            N_VERTICES = int(n_input)\n",
    "            if N_VERTICES >= 0:\n",
    "                break\n",
    "            else:\n",
    "                print(\"Error: Number of vertices cannot be negative.\")\n",
    "        except ValueError:\n",
    "            print(\"Invalid input. Please enter a whole number.\")\n",
    "            \n",
    "    max_possible_edges = N_VERTICES * (N_VERTICES - 1) // 2\n",
    "    \n",
    "    while True:\n",
    "        try:\n",
    "            m_input = input(f\"Enter the number of edges (0 to {max_possible_edges}): \")\n",
    "            M_EDGES = int(m_input)\n",
    "            if 0 <= M_EDGES <= max_possible_edges:\n",
    "                break\n",
    "            else:\n",
    "                print(f\"Error: Number of edges must be between 0 and {max_possible_edges}.\")\n",
    "        except ValueError:\n",
    "            print(\"Invalid input. Please enter a whole number.\")\n",
    "\n",
    "    G = generate_random_graph(N_VERTICES, M_EDGES)\n",
    "    print(f\"\\n✅ Generated a random graph with {N_VERTICES} vertices and {M_EDGES} edges.\")\n",
    "    \n",
    "    # Initialize scores to 1/n for each node\n",
    "    initial_scores = np.ones(N_VERTICES) / N_VERTICES\n",
    "    initial_title = f\"Initial State (Scores are 1/{N_VERTICES})\"\n",
    "    display_graph_state(G, initial_scores, initial_title)\n",
    "    plot_graph_with_scores(G, initial_scores, initial_title)\n",
    "\n",
    "    # Compute the first update (the result will be normalized)\n",
    "    updated_scores = compute_next_scores(G, initial_scores)\n",
    "    updated_title = \"Normalized State (First Iteration)\"\n",
    "    display_graph_state(G, updated_scores, updated_title)\n",
    "    plot_graph_with_scores(G, updated_scores, updated_title)\n",
    "    \n",
    "    handle_user_edge_addition(G, updated_scores)\n",
    "    \n",
    "    print(\"\\nProcess finished. 👋\")"
   ]
  }
 ],
 "metadata": {
  "language_info": {
   "name": "python"
  }
 },
 "nbformat": 4,
 "nbformat_minor": 5
}
